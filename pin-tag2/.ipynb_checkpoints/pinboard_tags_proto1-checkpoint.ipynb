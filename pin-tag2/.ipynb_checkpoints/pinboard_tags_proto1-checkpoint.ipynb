{
 "cells": [
  {
   "cell_type": "markdown",
   "metadata": {},
   "source": [
    "# Left off here, 2017-06-09\n",
    "\n",
    "* for all but 81 links, was able to split tags containing \".\" into individual atomic tags.\n",
    "* this reduced tag count from 1634 to 1553\n",
    "* for the 81 bad links, try this:\n",
    "    * look at each individually\n",
    "    * what is the common problem, if any?\n",
    "        * private?\n",
    "        * non-shared?\n",
    "        * cached by pinboard?\n",
    "        * tag syntax?\n",
    "        * other?"
   ]
  },
  {
   "cell_type": "code",
   "execution_count": 51,
   "metadata": {
    "collapsed": false
   },
   "outputs": [],
   "source": [
    "import sys\n",
    "import pinboard\n",
    "from ruamel.yaml import YAML\n",
    "from time import sleep\n",
    "from random import sample, random"
   ]
  },
  {
   "cell_type": "code",
   "execution_count": 2,
   "metadata": {
    "collapsed": true
   },
   "outputs": [],
   "source": [
    "yaml=YAML(typ='safe')  "
   ]
  },
  {
   "cell_type": "code",
   "execution_count": 3,
   "metadata": {
    "collapsed": false
   },
   "outputs": [],
   "source": [
    "with open(\"data/keys/pbkey.yaml\") as kh:\n",
    "    fin = kh.read()\n",
    "    config = yaml.load(fin)"
   ]
  },
  {
   "cell_type": "code",
   "execution_count": 4,
   "metadata": {
    "collapsed": false
   },
   "outputs": [
    {
     "name": "stdout",
     "output_type": "stream",
     "text": [
      "<type 'dict'>\n"
     ]
    }
   ],
   "source": [
    "print type(config)\n",
    "mykey = config.get('uname') + \":\" + config.get(\"key\")\n",
    "# print mykey"
   ]
  },
  {
   "cell_type": "code",
   "execution_count": 5,
   "metadata": {
    "collapsed": false
   },
   "outputs": [],
   "source": [
    "pb = pinboard.Pinboard(config.get('uname') + \":\" + config.get(\"key\"))"
   ]
  },
  {
   "cell_type": "code",
   "execution_count": 6,
   "metadata": {
    "collapsed": false
   },
   "outputs": [
    {
     "data": {
      "text/plain": [
       "pinboard.pinboard.Pinboard"
      ]
     },
     "execution_count": 6,
     "metadata": {},
     "output_type": "execute_result"
    }
   ],
   "source": [
    "type(pb)"
   ]
  },
  {
   "cell_type": "code",
   "execution_count": 7,
   "metadata": {
    "collapsed": false
   },
   "outputs": [
    {
     "data": {
      "text/plain": [
       "datetime.datetime(2017, 6, 11, 15, 23, 35)"
      ]
     },
     "execution_count": 7,
     "metadata": {},
     "output_type": "execute_result"
    }
   ],
   "source": [
    "pb.posts.update()"
   ]
  },
  {
   "cell_type": "code",
   "execution_count": 8,
   "metadata": {
    "collapsed": false
   },
   "outputs": [],
   "source": [
    "tags_pb = pb.tags.get()"
   ]
  },
  {
   "cell_type": "code",
   "execution_count": 9,
   "metadata": {
    "collapsed": false
   },
   "outputs": [
    {
     "name": "stdout",
     "output_type": "stream",
     "text": [
      "<type 'list'>\n",
      "1582\n",
      "<Tag name=\"&amp;amp;book\" count=2>\n"
     ]
    }
   ],
   "source": [
    "print type(tags_pb)\n",
    "print len(tags_pb)\n",
    "print tags_pb[10]"
   ]
  },
  {
   "cell_type": "code",
   "execution_count": 10,
   "metadata": {
    "collapsed": false
   },
   "outputs": [],
   "source": [
    "posts_pb = pb.posts.all()"
   ]
  },
  {
   "cell_type": "code",
   "execution_count": 11,
   "metadata": {
    "collapsed": false
   },
   "outputs": [
    {
     "name": "stdout",
     "output_type": "stream",
     "text": [
      "<type 'list'>\n",
      "1571\n",
      "<Bookmark description=\"Doodling in Math Class: Spirals, Fibonacci, and Being a Plant [2 of 3]\" url=\"vimeo.com\">\n",
      "<class 'pinboard.pinboard.Bookmark'>\n",
      "[u'vi-hart', u'_math', u'@author(vi-hart)', u'@share(julian)', u'@try', u'@do']\n"
     ]
    }
   ],
   "source": [
    "print type(posts_pb)\n",
    "print len(posts_pb)\n",
    "print posts_pb[10]\n",
    "print type(posts_pb[10])\n",
    "print posts_pb[10].tags"
   ]
  },
  {
   "cell_type": "code",
   "execution_count": 12,
   "metadata": {
    "collapsed": false
   },
   "outputs": [
    {
     "name": "stdout",
     "output_type": "stream",
     "text": [
      "<Bookmark description=\"American Workday, By Occupation | FlowingData\" url=\"flowingdata.com\">\n"
     ]
    }
   ],
   "source": [
    "a_post = posts_pb[100]\n",
    "print a_post\n",
    "# dir(a_post)"
   ]
  },
  {
   "cell_type": "markdown",
   "metadata": {},
   "source": [
    "## Make a tag list"
   ]
  },
  {
   "cell_type": "code",
   "execution_count": 20,
   "metadata": {
    "collapsed": false
   },
   "outputs": [
    {
     "name": "stdout",
     "output_type": "stream",
     "text": [
      "1582\n"
     ]
    }
   ],
   "source": [
    "tags = [t.name for t in tags_pb]\n",
    "print len(tags)"
   ]
  },
  {
   "cell_type": "code",
   "execution_count": 39,
   "metadata": {
    "collapsed": false
   },
   "outputs": [
    {
     "data": {
      "text/plain": [
       "[u'macro',\n",
       " u'tools',\n",
       " u'bostock',\n",
       " u'earth',\n",
       " u'hardware',\n",
       " u'ableton-live',\n",
       " u'project-management',\n",
       " u'portfolio-management',\n",
       " u'&amp;amp;paper',\n",
       " u'kl-distance',\n",
       " u'international-soace-station',\n",
       " u'github',\n",
       " u'photog',\n",
       " u'diagrams',\n",
       " u'habit',\n",
       " u'tree',\n",
       " u'insights-center',\n",
       " u'lang',\n",
       " u'generating-functions',\n",
       " u'hipster-sounds']"
      ]
     },
     "execution_count": 39,
     "metadata": {},
     "output_type": "execute_result"
    }
   ],
   "source": [
    "sample(tags, 20)"
   ]
  },
  {
   "cell_type": "code",
   "execution_count": 82,
   "metadata": {
    "collapsed": false
   },
   "outputs": [
    {
     "name": "stdout",
     "output_type": "stream",
     "text": [
      "Other ['&inspiration']\n",
      "Other ['@learn']\n",
      "Other ['@share(sreek)']\n",
      "Other ['@try(meade)']\n",
      "Other ['@try(python)']\n",
      "Other ['HR']\n",
      "Atomic _coms.api ['_coms', 'api']\n",
      "Atomic _coms.lang.bash ['_coms', 'lang', 'bash']\n",
      "Atomic _coms.lang.javascript.d3 ['_coms', 'lang', 'javascript', 'd3']\n",
      "Other ['_dmm']\n",
      "Atomic _dmml.classifier ['_dmml', 'classifier']\n",
      "Atomic _dmml.random-forest ['_dmml', 'random-forest']\n",
      "Atomic _math.prime-numbers ['_math', 'prime-numbers']\n",
      "Atomic _stat.forecast ['_stat', 'forecast']\n",
      "Other ['_viz']\n",
      "Other ['ableton-live']\n",
      "Other ['ai']\n"
     ]
    }
   ],
   "source": [
    "acount = 0\n",
    "ocount = 0\n",
    "printmax = 10\n",
    "atomic_tags = []\n",
    "other_tags = []\n",
    "for t in tags:\n",
    "    if \".\" in t:\n",
    "        t = t.replace(\"&amp;amp;\", \"&\")\n",
    "        t = t.replace(\"&amp;\", \"&\")\n",
    "        t = t.replace(\"$\", \"&\")\n",
    "        splitto = [str(tg) for tg in t.split(\".\") if len(tg) > 0] \n",
    "        atomic_tags += splitto     \n",
    "        if acount < printmax and random() < 0.1:\n",
    "            print \"Atomic\", t, splitto\n",
    "            acount += 1\n",
    "    else:\n",
    "        if ocount < printmax and random() < 0.05:\n",
    "            stag = str(t)\n",
    "            stag = stag.replace(\"&amp;amp;\", \"&\")\n",
    "            stag = stag.replace(\"&amp;\", \"&\")\n",
    "            stag = stag.replace(\"$\", \"&\")\n",
    "            print \"Other\", [stag]\n",
    "            other_tags += stag\n",
    "            ocount += 1\n",
    "tag_set = list(set(atomic_tags + other_tags))\n",
    "tag_set = sorted(tag_set)"
   ]
  },
  {
   "cell_type": "code",
   "execution_count": 83,
   "metadata": {
    "collapsed": false
   },
   "outputs": [
    {
     "name": "stdout",
     "output_type": "stream",
     "text": [
      "1582 found tags.  Unique-> 1582\n",
      "251 atomic tags.  Unique-> 116\n",
      "78 other tags.  Unique-> 26\n",
      "141\n"
     ]
    }
   ],
   "source": [
    "print len(tags), \"found tags.  Unique->\", len(set(tags))\n",
    "print len(atomic_tags), \"atomic tags.  Unique->\", len(set(atomic_tags))\n",
    "print len(other_tags), \"other tags.  Unique->\", len(set(other_tags))\n",
    "print len(tag_set)"
   ]
  },
  {
   "cell_type": "code",
   "execution_count": 84,
   "metadata": {
    "collapsed": false
   },
   "outputs": [
    {
     "data": {
      "text/plain": [
       "['visualization',\n",
       " '_',\n",
       " 'labor',\n",
       " ')',\n",
       " 'r',\n",
       " 'project',\n",
       " 'jupyter',\n",
       " '(',\n",
       " 'e',\n",
       " 'network',\n",
       " 'best-practices',\n",
       " 'pluto',\n",
       " 'census',\n",
       " 'H',\n",
       " 'someday',\n",
       " 'eda',\n",
       " 'orery',\n",
       " 'js',\n",
       " 'm',\n",
       " 'gam']"
      ]
     },
     "execution_count": 84,
     "metadata": {},
     "output_type": "execute_result"
    }
   ],
   "source": [
    "sample(tag_set,20)"
   ]
  },
  {
   "cell_type": "markdown",
   "metadata": {
    "collapsed": true
   },
   "source": [
    "# Now convert tags to atomic"
   ]
  },
  {
   "cell_type": "markdown",
   "metadata": {},
   "source": [
    "### define conversion function"
   ]
  },
  {
   "cell_type": "code",
   "execution_count": 236,
   "metadata": {
    "collapsed": false
   },
   "outputs": [],
   "source": [
    "def tag_converter(tag_list):\n",
    "    \"\"\"convert a list of decorated xx.xx.xx tags to atomic tags\"\"\"\n",
    "    assert type(sno) == list\n",
    "    atomic_tags = []\n",
    "    for t in tag_list:\n",
    "        if \".\" in t:\n",
    "            splitto = [str(tg).encode(\"ascii\", \"ignore\") for tg in t.split(\".\") if len(tg) > 0] \n",
    "            atomic_tags += splitto \n",
    "        # elif \"@\" in t:\n",
    "        #     tgood = t.replace(\"@\", \"%\")\n",
    "        #     tgood = tgood.encode(\"ascii\", \"ignore\")\n",
    "        #     atomic_tags.append(tgood)\n",
    "        else:\n",
    "            tt = t.encode(\"ascii\", \"ignore\")\n",
    "            atomic_tags.append(tt)\n",
    "    atomic_tags = list(set(atomic_tags))\n",
    "    return atomic_tags"
   ]
  },
  {
   "cell_type": "code",
   "execution_count": 237,
   "metadata": {
    "collapsed": false
   },
   "outputs": [
    {
     "data": {
      "text/plain": [
       "['_app', 'animation', 'adobe-animate']"
      ]
     },
     "execution_count": 237,
     "metadata": {},
     "output_type": "execute_result"
    }
   ],
   "source": [
    "# test conversion\n",
    "tag_converter([u'_app.adobe-animate', u'animation'])"
   ]
  },
  {
   "cell_type": "markdown",
   "metadata": {},
   "source": [
    "### test the conversion function"
   ]
  },
  {
   "cell_type": "code",
   "execution_count": 238,
   "metadata": {
    "collapsed": false
   },
   "outputs": [
    {
     "data": {
      "text/plain": [
       "['_app', 'animation', 'adobe-animate']"
      ]
     },
     "execution_count": 238,
     "metadata": {},
     "output_type": "execute_result"
    }
   ],
   "source": [
    "tag_converter([u'_app.adobe-animate', u'animation'])"
   ]
  },
  {
   "cell_type": "code",
   "execution_count": 241,
   "metadata": {
    "collapsed": false
   },
   "outputs": [],
   "source": [
    "assert(tag_converter([\"_app.autohotkey\"])) == ['_app', 'autohotkey']\n",
    "assert(tag_converter([\".watch\"])) ==  ['watch']\n",
    "assert(tag_converter([u'_app.adobe-animate', u'animation'])) == ['_app', 'animation', 'adobe-animate']\n",
    "# assert(tag_converter([u'wise', u'_lit.poetry.life', u'life', u'@share', u'awesome'])) ==\\\n",
    "#     ['life', '%share', 'awesome', 'poetry', 'wise', '_lit']"
   ]
  },
  {
   "cell_type": "code",
   "execution_count": 92,
   "metadata": {
    "collapsed": false
   },
   "outputs": [
    {
     "name": "stdout",
     "output_type": "stream",
     "text": [
      "1634\n"
     ]
    }
   ],
   "source": [
    "tags = [t.name for t in tags_pb]\n",
    "print len(tags)"
   ]
  },
  {
   "cell_type": "code",
   "execution_count": 93,
   "metadata": {
    "collapsed": false
   },
   "outputs": [],
   "source": [
    "for t in tags:\n",
    "    try:\n",
    "        dump = tag_converter(t)\n",
    "    except:\n",
    "        print \"O SHIT! -> \", t\n",
    "        "
   ]
  },
  {
   "cell_type": "markdown",
   "metadata": {},
   "source": [
    "## now apply conversion function"
   ]
  },
  {
   "cell_type": "code",
   "execution_count": 277,
   "metadata": {
    "collapsed": false
   },
   "outputs": [
    {
     "name": "stdout",
     "output_type": "stream",
     "text": [
      "Argh, die <Bookmark description=\"How Well-Structured Is Our Federal Reserve, Anyway?\" url=\"www.bradford-delong.com\">\n",
      "Argh, die <Bookmark description=\"Exploratory computing with Python\" url=\"mbakker7.github.io\">\n",
      "Argh, die <Bookmark description=\"Principal Component Analysis on Images\" url=\"blog.thehackerati.com\">\n",
      "Argh, die <Bookmark description=\"pandashells pandas on the command line\" url=\"github.com\">\n",
      "Argh, die <Bookmark description=\"Termtile OS X scripts to tile the terminal window\" url=\"github.com\">\n",
      "Argh, die <Bookmark description=\"List of Lists on Github - awesome\" url=\"github.com\">\n",
      "Argh, die <Bookmark description=\"mltframework/shotcut · GitHub\" url=\"github.com\">\n",
      "10 Argh, die <Bookmark description=\"How a Kalman filter works, in pictures\" url=\"www.bzarg.com\">\n",
      "Argh, die <Bookmark description=\"szilard/benchm-ml\" url=\"github.com\">\n",
      "Argh, die <Bookmark description=\"How Do You Know if Your Data Has Signal?\" url=\"feedproxy.google.com\">\n",
      "Argh, die <Bookmark description=\"Documentation at scale: The principles\" url=\"250bpm.com\">\n",
      "20 Argh, die <Bookmark description=\"New Spy Software Helps Steve Cohen Evaluate Which Would-Be Insider Traders Need Their Skulls F*cked Today And Which Can Wait Until Monday\" url=\"feedproxy.google.com\">\n",
      "Argh, die <Bookmark description=\"GAM: The Predictive Modeling Silver Bullet\" url=\"multithreaded.stitchfix.com\">\n",
      "Argh, die <Bookmark description=\"Achieve Charting Zen With TauCharts\" url=\"feedproxy.google.com\">\n",
      "Argh, die <Bookmark description=\"Generalised Linear Models in R\" url=\"feedproxy.google.com\">\n",
      "Argh, die <Bookmark description=\"Feature Engineering versus Feature Extraction: Game On!\" url=\"feedproxy.google.com\">\n",
      "Argh, die <Bookmark description=\"Sensemaking in R: A Plenitude of Models Makes for Good Storytelling\" url=\"feedproxy.google.com\">\n",
      "Argh, die <Bookmark description=\"dendextend: a package for visualizing, adjusting, and comparing dendrograms (based on a paper from “bioinformatics”)\" url=\"feedproxy.google.com\">\n",
      "Argh, die <Bookmark description=\"Spark dataframes in Python\" url=\"nbviewer.ipython.org\">\n",
      "Argh, die <Bookmark description=\"Survival Analysis – 1\" url=\"feedproxy.google.com\">\n",
      "Argh, die <Bookmark description=\"Producing a Control Chart in R – An Application in Analytical Chemistry\" url=\"feedproxy.google.com\">\n",
      "30 Argh, die <Bookmark description=\"Divide And Conquer the most powerful concept in programming\" url=\"jacquesmattheij.com\">\n",
      "Argh, die <Bookmark description=\"15 Questions All R Users Have About Plots\" url=\"feedproxy.google.com\">\n",
      "Argh, die <Bookmark description=\"Cross Validation done wrong\" url=\"www.alfredo.motta.name\">\n",
      "40 Argh, die <Bookmark description=\"The Principles Behind Effective Analytics and How to Avoid Wasting Your Time\" url=\"rubenugarte.com\">\n",
      "Argh, die <Bookmark description=\"tmadl/semisup-learn\" url=\"github.com\">\n",
      "Argh, die <Bookmark description=\"Data manipulation primitives in R and Python\" url=\"www.alfredo.motta.name\">\n",
      "Argh, die <Bookmark description=\"Logistic Growth, S Curves, Bifurcations, and Lyapunov Exponents in R\" url=\"feedproxy.google.com\">\n",
      "50 Argh, die <Bookmark description=\"Javascript, locking and sound, brought to you by the letters W, T and F\" url=\"www.jwz.org\">\n",
      "Argh, die <Bookmark description=\"Learn regular expressions in about 55 minutes\" url=\"qntm.org\">\n",
      "Argh, die <Bookmark description=\"Sunbelt XXXV, Social Network Analysis, Statnet and R\" url=\"feedproxy.google.com\">\n",
      "Argh, die <Bookmark description=\"Waterfall plots – what and how?\" url=\"feedproxy.google.com\">\n",
      "60\n"
     ]
    }
   ],
   "source": [
    "tcount = 0\n",
    "for post in posts_pb[1000:1100]:\n",
    "    # 900-1000 are bad!\n",
    "    # print post\n",
    "    # print post.tags\n",
    "    new_tags = tag_converter(post.tags)\n",
    "    # print new_tags\n",
    "    post.tags = new_tags\n",
    "    try:\n",
    "        post.save()\n",
    "        tcount += 1\n",
    "        if tcount%10 == 0:\n",
    "            print tcount,\n",
    "    except:\n",
    "        print \"Argh, die\", post"
   ]
  },
  {
   "cell_type": "code",
   "execution_count": 278,
   "metadata": {
    "collapsed": true
   },
   "outputs": [],
   "source": [
    "posts_pb = pb.posts.all()"
   ]
  },
  {
   "cell_type": "code",
   "execution_count": 279,
   "metadata": {
    "collapsed": false
   },
   "outputs": [
    {
     "name": "stdout",
     "output_type": "stream",
     "text": [
      "ARGH\n",
      "<Bookmark description=\"The Vision of Sin, by Alfred Tennyson\" url=\"www.blackcatpoems.com\">\n",
      "[u'wise', u'_lit.poetry', u'death', u'life', u'@share', u'awesome']\n",
      "['life', 'death', 'wise', 'awesome', 'poetry', '@share', '_lit']\n",
      " \n",
      "ARGH\n",
      "<Bookmark description=\"Building Interactive Dashboards with Jupyter\" url=\"blog.dominodatalab.com\">\n",
      "[u'_coms.lang.python.ipython-notebook', u'_coms.lang.python.jupyter', u'interactive', u'_dmml', u'reactive']\n",
      "['_coms', 'lang', 'jupyter', 'python', 'reactive', '_dmml', 'ipython-notebook', 'interactive']\n",
      " \n",
      "ARGH\n",
      "<Bookmark description=\"How far away is Mars?\" url=\"feeds.boingboing.net\">\n",
      "[u'_coms.project.orery', u'_sci.astro.mars', u'_sci.astro', u'_sci.astro.orery']\n",
      "['_coms', 'astro', 'project', 'orery', '_sci', 'mars']\n",
      " \n",
      "ARGH\n",
      "<Bookmark description=\"Interactive Scatterplots of Census Data Using ggvis\" url=\"feedproxy.google.com\">\n",
      "[u'_data.census', u'swc']\n",
      "['_data', 'census', 'swc']\n",
      " \n",
      "ARGH\n",
      "<Bookmark description=\"Scipy Lecture Notes¶\" url=\"www.scipy-lectures.org\">\n",
      "[u'@curriculum', u'_coms.python.scipy', u'k', u'_dmml']\n",
      "['_coms', 'python', '@curriculum', 'scipy', '_dmml', 'k']\n",
      " \n",
      "ARGH\n",
      "<Bookmark description=\"The Unreasonable Effectiveness of Random Forests — Rants on Machine Learning\" url=\"medium.com\">\n",
      "[u'_dmml.random-forest']\n",
      "['random-forest', '_dmml']\n",
      " \n",
      "ARGH\n",
      "<Bookmark description=\"Simulating backtests of stock returns using Monte-Carlo and snowfall in parallel\" url=\"feedproxy.google.com\">\n",
      "[u'@curriculum', u'_fin', u'pbdo', u'_stat.r', u'@evaluate']\n",
      "['_stat', '_fin', '@evaluate', '@curriculum', 'r', 'pbdo']\n",
      " \n",
      "ARGH\n",
      "<Bookmark description=\"Interpolation and smoothing functions in base R\" url=\"feedproxy.google.com\">\n",
      "[u'interpolation', u'spline', u'_stat.r.smoothing', u'@curriculum']\n",
      "['_stat', '@curriculum', 'smoothing', 'r', 'spline', 'interpolation']\n",
      " \n",
      "ARGH\n",
      "<Bookmark description=\"pytest: helps you write better programs\" url=\"pytest.org\">\n",
      "[u'_coms.python.pytest', u'@curriculum', u'_coms.best-practices', u'unit-testing', u'swc']\n",
      "['_coms', 'python', '@curriculum', 'pytest', 'best-practices', 'unit-testing', 'swc']\n",
      " \n",
      "ARGH\n",
      "<Bookmark description=\"scene — 2D Graphics and Animation — Pythonista Documentation\" url=\"omz-software.com\">\n",
      "[u'_app.pythonista.scene', u'gamedev', u'@curriculum']\n",
      "['_app', '@curriculum', 'gamedev', 'pythonista', 'scene']\n",
      " \n",
      "ARGH\n",
      "<Bookmark description=\"[2015-08-19] Challenge #228 [Intermediate] Use a Web Service to Find Bitcoin Prices • /r/dailyprogrammer\" url=\"www.reddit.com\">\n",
      "[u'@try', u'_coms.api', u'@curriculum']\n",
      "['_coms', '@curriculum', 'api', '@try']\n",
      " \n",
      "ARGH\n",
      "<Bookmark description=\"Customer Segmentation in Python\" url=\"blog.yhathq.com\">\n",
      "[u'_dmml.customer-segmentation', u'@evaluate', u'k']\n",
      "['@evaluate', 'customer-segmentation', '_dmml', 'k']\n",
      " \n",
      "ARGH\n",
      "<Bookmark description=\"\" url=\"golog.co\">\n",
      "[u'_dmml.distributed', u'_coms.parallel', u'_app.spark', u'apache-spark']\n",
      "['_coms', 'apache-spark', 'distributed', '_dmml', '_app', 'spark', 'parallel']\n",
      " \n",
      "ARGH\n",
      "<Bookmark description=\"A Beginner’s Guide to Eigenvectors, PCA, Covariance and Entropy\" url=\"deeplearning4j.org\">\n",
      "[u'information-theory', u'_stat.corr', u'_stat.covariance', u'entropy', u'_stat.entropy', u'@curriculum']\n",
      "['_stat', '@curriculum', 'covariance', 'information-theory', 'entropy', 'corr']\n",
      " \n",
      "ARGH\n",
      "<Bookmark description=\"Pumping the Primes\" url=\"bit-player.org\">\n",
      "[u'@share', u'_math.prime-numbers', u'_math.number_theory']\n",
      "['_math', 'number_theory', 'prime-numbers', '@share']\n",
      " \n",
      "ARGH\n",
      "<Bookmark description=\"[Free Schematic] Raspberry PI 2 Cluster Assembly Tutorial\" url=\"pocketcluster.wordpress.com\">\n",
      "[u'_coms.cluster', u'raspberry-pi', u'_coms.hpc', u'_coms.parallel']\n",
      "['_coms', 'cluster', 'hpc', 'parallel', 'raspberry-pi']\n",
      " \n",
      "ARGH\n",
      "<Bookmark description=\"How Well-Structured Is Our Federal Reserve, Anyway?\" url=\"www.bradford-delong.com\">\n",
      "[u'_econ.macro', u'_econ.federal-reserve', u'_econ.fomc', u'_econ.policy', u'_econ.inflation']\n",
      "['_econ', 'macro', 'fomc', 'inflation', 'federal-reserve', 'policy']\n",
      " \n",
      "ARGH\n",
      "<Bookmark description=\"Exploratory computing with Python\" url=\"mbakker7.github.io\">\n",
      "[u'@evaluate', u'@try', u'@curriculum', u'k', u'_coms.lang.python', u'_dmml.eda']\n",
      "['_coms', 'lang', 'eda', '@evaluate', '@curriculum', 'python', '_dmml', '@try', 'k']\n",
      " \n",
      "ARGH\n",
      "<Bookmark description=\"Principal Component Analysis on Images\" url=\"blog.thehackerati.com\">\n",
      "[u'_stat.pca', u'@try', u'principal-components', u'@curriculum', u'_math.linalg', u'fun', u'image-processing', u'_dmml.pca']\n",
      "['_stat', 'linalg', '@curriculum', 'image-processing', 'fun', '_dmml', '@try', '_math', 'pca', 'principal-components']\n",
      " \n",
      "ARGH\n",
      "<Bookmark description=\"pandashells pandas on the command line\" url=\"github.com\">\n",
      "[u'_coms.lang.python.pandas', u'unix', u'_coms.lang.bash', u'k', u'command-line']\n",
      "['_coms', 'lang', 'command-line', 'python', 'k', 'unix', 'pandas', 'bash']\n",
      " \n",
      "ARGH\n",
      "<Bookmark description=\"Termtile OS X scripts to tile the terminal window\" url=\"github.com\">\n",
      "[u'_app.terminal', u'osx', u'tiled']\n",
      "['_app', 'terminal', 'tiled', 'osx']\n",
      " \n",
      "ARGH\n",
      "<Bookmark description=\"mltframework/shotcut · GitHub\" url=\"github.com\">\n",
      "[u'_app.video-editor', u'linux', u'@evaluate', u'video-editing', u'unix', u'.someday']\n",
      "['someday', '@evaluate', 'unix', 'video-editing', 'video-editor', 'linux', '_app']\n",
      " \n",
      "ARGH\n",
      "<Bookmark description=\"How a Kalman filter works, in pictures\" url=\"www.bzarg.com\">\n",
      "[u'_dmml.trading', u'@curriculum', u'k', u'time-series', u'_stat.ts.kalman-filter']\n",
      "['_stat', '@curriculum', 'ts', 'trading', 'kalman-filter', 'time-series', '_dmml', 'k']\n",
      " \n",
      "ARGH\n",
      "<Bookmark description=\"szilard/benchm-ml\" url=\"github.com\">\n",
      "[u'_dmml.classifier', u'benchmarking', u'@curriculum', u'k', u'@share', u'_dmml.model-selection']\n",
      "['k', '@share', '_dmml', 'model-selection', 'benchmarking', '@curriculum', 'classifier']\n",
      " \n",
      "ARGH\n",
      "<Bookmark description=\"How Do You Know if Your Data Has Signal?\" url=\"feedproxy.google.com\">\n",
      "[u'_dmml.data', u'_dmml', u'k', u'_dmml.model-selection', u'signal-vs-noise', u'@curriculum']\n",
      "['k', '_dmml', 'model-selection', 'signal-vs-noise', 'data', '@curriculum']\n",
      " \n",
      "ARGH\n",
      "<Bookmark description=\"Documentation at scale: The principles\" url=\"250bpm.com\">\n",
      "[u'github', u'travis-ci', u'swc', u'_coms.documentation', u'_coms.best-practices']\n",
      "['_coms', 'github', 'swc', 'documentation', 'travis-ci', 'best-practices']\n",
      " \n",
      "ARGH\n",
      "<Bookmark description=\"New Spy Software Helps Steve Cohen Evaluate Which Would-Be Insider Traders Need Their Skulls F*cked Today And Which Can Wait Until Monday\" url=\"feedproxy.google.com\">\n",
      "[u'_dmml.surveilance', u'k', u'_dmml.industry']\n",
      "['surveilance', 'k', '_dmml', 'industry']\n",
      " \n",
      "ARGH\n",
      "<Bookmark description=\"GAM: The Predictive Modeling Silver Bullet\" url=\"multithreaded.stitchfix.com\">\n",
      "[u'_dmml.gam', u'@curriculum', u'_stat.gam']\n",
      "['_stat', 'gam', '_dmml', '@curriculum']\n",
      " \n",
      "ARGH\n",
      "<Bookmark description=\"Achieve Charting Zen With TauCharts\" url=\"feedproxy.google.com\">\n",
      "[u'data-viz', u'_stat.r']\n",
      "['_stat', 'r', 'data-viz']\n",
      " \n",
      "ARGH\n",
      "<Bookmark description=\"Generalised Linear Models in R\" url=\"feedproxy.google.com\">\n",
      "[u'@curriculum', u'_stat.glm', u'_stat.r']\n",
      "['_stat', '@curriculum', 'r', 'glm']\n",
      " \n",
      "ARGH\n",
      "<Bookmark description=\"Feature Engineering versus Feature Extraction: Game On!\" url=\"feedproxy.google.com\">\n",
      "[u'k', u'_dmml.classifier', u'@share', u'wise', u'_dmml.feature-engineering']\n",
      "['wise', 'feature-engineering', 'k', '@share', '_dmml', 'classifier']\n",
      " \n",
      "ARGH\n",
      "<Bookmark description=\"Sensemaking in R: A Plenitude of Models Makes for Good Storytelling\" url=\"feedproxy.google.com\">\n",
      "[u'@curriculum', u'_dmml.story-telling', u'_stat.causal']\n",
      "['_stat', '@curriculum', '_dmml', 'story-telling', 'causal']\n",
      " \n",
      "ARGH\n",
      "<Bookmark description=\"dendextend: a package for visualizing, adjusting, and comparing dendrograms (based on a paper from “bioinformatics”)\" url=\"feedproxy.google.com\">\n",
      "[u'_stat.r', u'_dmml.cluster.visualization', u'_viz.dendrogram']\n",
      "['_stat', 'visualization', '_viz', 'cluster', 'r', '_dmml', 'dendrogram']\n",
      " \n",
      "ARGH\n",
      "<Bookmark description=\"Spark dataframes in Python\" url=\"nbviewer.ipython.org\">\n",
      "[u'spark', u'parallel-computing', u'_coms.lang.python', u'_dmml']\n",
      "['_coms', 'lang', 'parallel-computing', 'python', '_dmml', 'spark']\n",
      " \n",
      "ARGH\n",
      "<Bookmark description=\"Survival Analysis – 1\" url=\"feedproxy.google.com\">\n",
      "[u'_stat.survival.analysis', u'@curriculum', u'_stat.nonparametric', u'_stat.r']\n",
      "['_stat', 'survival', 'analysis', 'r', 'nonparametric', '@curriculum']\n",
      " \n",
      "ARGH\n",
      "<Bookmark description=\"Producing a Control Chart in R – An Application in Analytical Chemistry\" url=\"feedproxy.google.com\">\n",
      "[u'@curriculum', u'_stat.r', u'_stat.control-chart']\n",
      "['_stat', '@curriculum', 'r', 'control-chart']\n",
      " \n",
      "ARGH\n",
      "<Bookmark description=\"15 Questions All R Users Have About Plots\" url=\"feedproxy.google.com\">\n",
      "[u'_stat.r.plot']\n",
      "['_stat', 'plot', 'r']\n",
      " \n",
      "ARGH\n",
      "<Bookmark description=\"Cross Validation done wrong\" url=\"www.alfredo.motta.name\">\n",
      "[u'performance', u'@curriculum', u'_dmml.cross-validation']\n",
      "['cross-validation', 'performance', '@curriculum', '_dmml']\n",
      " \n",
      "ARGH\n",
      "<Bookmark description=\"The Principles Behind Effective Analytics and How to Avoid Wasting Your Time\" url=\"rubenugarte.com\">\n",
      "[u'_dmml.business', u'wise', u'business', u'k', u'worth-of-information', u'useful']\n",
      "['wise', 'business', 'k', '_dmml', 'useful', 'worth-of-information']\n",
      " \n",
      "ARGH\n",
      "<Bookmark description=\"tmadl/semisup-learn\" url=\"github.com\">\n",
      "[u'_dmml.semi-supervised', u'@curriculum', u'k']\n",
      "['k', 'semi-supervised', '_dmml', '@curriculum']\n",
      " \n",
      "ARGH\n",
      "<Bookmark description=\"Data manipulation primitives in R and Python\" url=\"www.alfredo.motta.name\">\n",
      "[u'k', u'@curriculum', u'_dmml.wrangle']\n",
      "['k', '_dmml', '@curriculum', 'wrangle']\n",
      " \n",
      "ARGH\n",
      "<Bookmark description=\"Logistic Growth, S Curves, Bifurcations, and Lyapunov Exponents in R\" url=\"feedproxy.google.com\">\n",
      "[u'_stat.r', u'_fin.prepayment', u's-curve', u'_fin.mortgage']\n",
      "['_stat', '_fin', 'prepayment', 'mortgage', 'r', 's-curve']\n",
      " \n",
      "ARGH\n",
      "<Bookmark description=\"Javascript, locking and sound, brought to you by the letters W, T and F\" url=\"www.jwz.org\">\n",
      "[u'_coms.lang.javascript']\n",
      "['_coms', 'lang', 'javascript']\n",
      " \n",
      "ARGH\n",
      "<Bookmark description=\"Learn regular expressions in about 55 minutes\" url=\"qntm.org\">\n",
      "[u'swc', u'_coms.regex', u'regular-expressions']\n",
      "['_coms', 'regex', 'swc', 'regular-expressions']\n",
      " \n",
      "ARGH\n",
      "<Bookmark description=\"Sunbelt XXXV, Social Network Analysis, Statnet and R\" url=\"feedproxy.google.com\">\n",
      "[u'sna', u'_dmml.network', u'data-viz']\n",
      "['data-viz', '_dmml', 'network', 'sna']\n",
      " \n",
      "ARGH\n",
      "<Bookmark description=\"Waterfall plots – what and how?\" url=\"feedproxy.google.com\">\n",
      "[u'_viz.waterfall-plot', u'k', u'data-viz']\n",
      "['data-viz', 'k', 'waterfall-plot', '_viz']\n",
      " \n",
      "ARGH\n",
      "<Bookmark description=\"12 Little-Known CSS Facts\" url=\"www.sitepoint.com\">\n",
      "[u'&amp;tips', u'css', u'_coms.webdev.css']\n",
      "['&amp;tips', '_coms', 'css', 'webdev']\n",
      " \n",
      "ARGH\n",
      "<Bookmark description=\"12 Little-Known CSS Facts (The Sequel)\" url=\"www.sitepoint.com\">\n",
      "[u'&amp;tips', u'css', u'_coms.webdev.css']\n",
      "['&amp;tips', '_coms', 'css', 'webdev']\n",
      " \n",
      "ARGH\n",
      "<Bookmark description=\"New in the Wolfram Language: MailReceiverFunction\" url=\"blog.wolfram.com\">\n",
      "[u'email', u'_coms.mashup', u'@try', u'wolfram', u'_coms.lang.wolfram']\n",
      "['_coms', 'lang', 'mashup', '@try', 'email', 'wolfram']\n",
      " \n",
      "ARGH\n",
      "<Bookmark description=\"Decision Making Under Uncertainty: An Introduction to Robust Optimization (Part 2)\" url=\"blog.yhathq.com\">\n",
      "[u'yhat', u'_dmml.decision-theory', u'optimization', u'@curriculum']\n",
      "['yhat', '@curriculum', 'decision-theory', '_dmml', 'optimization']\n",
      " \n",
      "ARGH\n",
      "<Bookmark description=\"Decision Making Under Uncertainty: An Introduction to Robust Optimization (Part 1)\" url=\"blog.yhathq.com\">\n",
      "[u'_dmml.decision-theory', u'optimization', u'k', u'@curriculum']\n",
      "['@curriculum', 'k', 'decision-theory', '_dmml', 'optimization']\n",
      " \n",
      "ARGH\n",
      "<Bookmark description=\"Best Practices for Managing Your Code Library\" url=\"pbpython.com\">\n",
      "[u'_coms.best-practices', u'swc', u'_coms.lang.python']\n",
      "['_coms', 'best-practices', 'swc', 'lang', 'python']\n",
      " \n",
      "ARGH\n",
      "<Bookmark description=\"A/B Testing\" url=\"insightdatascience.com\">\n",
      "[u'k', u'_dmml.ab-testing']\n",
      "['ab-testing', 'k', '_dmml']\n",
      " \n",
      "ARGH\n",
      "<Bookmark description=\"Journey to Pluto\" url=\"flowingdata.com\">\n",
      "[u'_sci.astro.pluto', u'@share(julian)', u'&amp;video']\n",
      "['astro', '@share(julian)', '&amp;video', '_sci', 'pluto']\n",
      " \n",
      "ARGH\n",
      "<Bookmark description=\"Shell Tricks: .inputrc binding fun\" url=\"brettterpstra.com\">\n",
      "[u'&amp;tips', u'_coms.lang.bash']\n",
      "['&amp;tips', '_coms', 'lang', 'bash']\n",
      " \n",
      "ARGH\n",
      "<Bookmark description=\"Geographic visualization with R's ggmap\" url=\"blog.dominodatalab.com\">\n",
      "[u'data-viz', u'_stat.r.ggmap', u'maps', u'geospatial']\n",
      "['_stat', 'geospatial', 'ggmap', 'maps', 'r', 'data-viz']\n",
      " \n",
      "ARGH\n",
      "<Bookmark description=\"Pandas Categoricals\" url=\"blog.dominodatalab.com\">\n",
      "[u'_coms.lang.python.pandas.categorical']\n",
      "['_coms', 'lang', 'categorical', 'pandas', 'python']\n",
      " \n",
      "ARGH\n",
      "<Bookmark description=\"css style guide\" url=\"github.com\">\n",
      "[u'server', u'&amp;tips', u'@curriculum', u'_coms.webdev.css']\n",
      "['_coms', '&amp;tips', '@curriculum', 'server', 'webdev', 'css']\n",
      " \n",
      "ARGH\n",
      "<Bookmark description=\"How We Deploy Python Code Without Git\" url=\"nylas.com\">\n",
      "[u'deployment', u'@curriculum', u'_coms.webdev', u'_coms.lang.python']\n",
      "['_coms', 'lang', 'python', '@curriculum', 'deployment', 'webdev']\n",
      " \n",
      "ARGH\n",
      "<Bookmark description=\"The \"Sharing Economy\" is the Problem\" url=\"www.geo.coop\">\n",
      "[u'evil', u'_pol', u'axe', u'hoax', u'uber', u'_econ.labor.part-time']\n",
      "['uber', 'hoax', '_econ', 'evil', 'labor', '_pol', 'part-time', 'axe']\n",
      " \n",
      "ARGH\n",
      "<Bookmark description=\"Material Design components in CSS, JS, and HTML\" url=\"github.com\">\n",
      "[u'_coms.lang.javascript', u'html', u'design', u'@curriculum', u'@evaluate', u'blogging', u'_coms.webdev.css']\n",
      "['_coms', 'lang', '@evaluate', '@curriculum', 'javascript', 'html', 'design', 'webdev', 'blogging', 'css']\n",
      " \n",
      "ARGH\n",
      "<Bookmark description=\"Visualizing Google Forms Data with Seaborn\" url=\"pbpython.com\">\n",
      "[u'_dmml.cluster.visualization', u'@try(k)', u'_coms.lang.python.seaborne', u'_dmml.tools.google-forms', u'k', u'surveys', u'swc']\n",
      "['_coms', 'lang', 'surveys', '@try(k)', 'visualization', 'python', 'k', 'seaborne', 'google-forms', 'cluster', '_dmml', 'tools', 'swc']\n",
      " \n",
      "ARGH\n",
      "<Bookmark description=\"Public and Private Sector Payroll Jobs: Carter, Reagan, Bush, Clinton, Bush, Obama\" url=\"feedproxy.google.com\">\n",
      "[u'historic-job-growth', u'_econ.labor.presidents']\n",
      "['_econ', 'presidents', 'historic-job-growth', 'labor']\n",
      " \n",
      "ARGH\n",
      "<Bookmark description=\"DT: An R interface to the DataTables library\" url=\"blog.rstudio.org\">\n",
      "[u'@evaluate', u'_coms.lang.javascript', u'k', u'_dmml.dataframe']\n",
      "['_coms', 'lang', '@evaluate', 'k', 'javascript', 'dataframe', '_dmml']\n",
      " \n",
      "ARGH\n",
      "<Bookmark description=\"The Road to Pelican 3.2\" url=\"www.macdrifter.com\">\n",
      "[u'blogging', u'@curriculum', u'_coms.lang.python.virtualenv', u'pelican']\n",
      "['_coms', 'lang', 'pelican', 'python', '@curriculum', 'virtualenv', 'blogging']\n",
      " \n",
      "ARGH\n",
      "<Bookmark description=\"Hack Physics and JavaScript (part 1)\" url=\"codepen.io\">\n",
      "[u'_coms.lang.javascript', u'@share(julian)', u'animation', u'@curriculum']\n",
      "['_coms', 'lang', '@curriculum', 'javascript', '@share(julian)', 'animation']\n",
      " \n",
      "ARGH\n",
      "<Bookmark description=\"Review: Machine Learning with R Cookbook\" url=\"feedproxy.google.com\">\n",
      "[u'@curriculum', u'k', u'_dmml.tools', u'_stat.r']\n",
      "['_stat', '@curriculum', 'r', '_dmml', 'tools', 'k']\n",
      " \n",
      "ARGH\n",
      "<Bookmark description=\"A social-network illusion that makes things appear more popular than they are\" url=\"phys.org\">\n",
      "[u'@curriculum', u'_dmml.network', u'$chuckable']\n",
      "['@curriculum', '_dmml', 'network', '$chuckable']\n",
      " \n",
      "ARGH\n",
      "<Bookmark description=\"Meet the Julians\" url=\"bit-player.org\">\n",
      "[u'_coms.lang.julia', u'_dmml']\n",
      "['_coms', 'lang', '_dmml', 'julia']\n",
      " \n",
      "ARGH\n",
      "<Bookmark description=\"Bash Shortcuts Gem\" url=\"zwischenzugs.tk\">\n",
      "[u'_coms.lang.bash.tmux']\n",
      "['_coms', 'lang', 'tmux', 'bash']\n",
      " \n",
      "ARGH\n",
      "<Bookmark description=\"Announcing the R Consortium\" url=\"feedproxy.google.com\">\n",
      "[u'k', u'_stat.r']\n",
      "['_stat', 'k', 'r']\n",
      " \n",
      "ARGH\n",
      "<Bookmark description=\"6 Most Reliable JavaScript Frameworks for Web and Mobile Apps\" url=\"www.bestfreewebresources.com\">\n",
      "[u'_coms.lang.javascript', u'@curriculum']\n",
      "['_coms', 'lang', '@curriculum', 'javascript']\n",
      " \n",
      "ARGH\n",
      "<Bookmark description=\"Option 9: A Shoot'em Up Miniature Video Game\" url=\"pages.cs.wisc.edu\">\n",
      "[u'gamedev', u'_coms.lang.lisp']\n",
      "['_coms', 'lang', 'lisp', 'gamedev']\n",
      " \n",
      "ARGH\n",
      "<Bookmark description=\"dborzov/lsp\" url=\"github.com\">\n",
      "[u'&amp;util', u'_coms.lang.bash', u'@evaluate']\n",
      "['_coms', 'lang', '&amp;util', '@evaluate', 'bash']\n",
      " \n",
      "ARGH\n",
      "<Bookmark description=\"paoloantinori/hhighlighter · GitHub\" url=\"github.com\">\n",
      "[u'_coms.lang.bash', u'&amp;util', u'@evaluate']\n",
      "['_coms', 'lang', '&amp;util', '@evaluate', 'bash']\n",
      " \n",
      "ARGH\n",
      "<Bookmark description=\"amq/firefox-debloat\" url=\"github.com\">\n",
      "[u'@do(200rsd)', u'_app.firefox', u'netsec', u'infosec']\n",
      "['_app', 'infosec', 'netsec', 'firefox', '@do(200rsd)']\n",
      " \n",
      "ARGH\n",
      "<Bookmark description=\"Looking for Preference in All the Wrong Places: Neuroscience Suggests Choice Model Misspecification\" url=\"feedproxy.google.com\">\n",
      "[u'think', u'_stat.r', u'_econ.utility']\n",
      "['_stat', '_econ', 'r', 'think', 'utility']\n",
      " \n",
      "ARGH\n",
      "<Bookmark description=\"Illustrated Guide to ROC and AUC\" url=\"feedproxy.google.com\">\n",
      "[u'_stat.r.roc', u'_dmml.roc']\n",
      "['_stat', 'r', '_dmml', 'roc']\n",
      " \n",
      "ARGH\n",
      "<Bookmark description=\"Qualitative Text Analysis in R with RQDA\" url=\"feedproxy.google.com\">\n",
      "[u'_dmml.nlp.qda', u'_stat.r.nlp', u'@curriculum', u'qualitative-document-analysis']\n",
      "['_stat', 'nlp', 'qda', 'qualitative-document-analysis', '@curriculum', 'r', '_dmml']\n",
      " \n",
      "ARGH\n",
      "<Bookmark description=\"First Steps with Structural Equation Modeling\" url=\"feedproxy.google.com\">\n",
      "[u'_stat.sem', u'@curriculum', u'_stat.r.sem', u'structural-equation-modeling']\n",
      "['_stat', 'sem', 'r', 'structural-equation-modeling', '@curriculum']\n",
      " \n",
      "ARGH\n",
      "<Bookmark description=\"Visualizing fits, inference, implications of (G)LMMs with Jaime Ashander\" url=\"feedproxy.google.com\">\n",
      "[u'&amp;tutorial', u'_stat.glm', u'_stat.r', u'@curriculum']\n",
      "['&amp;tutorial', '_stat', '@curriculum', 'r', 'glm']\n",
      " \n",
      "81\n"
     ]
    }
   ],
   "source": [
    "# second pass to clean up misses\n",
    "pcount = 0\n",
    "for post in posts_pb:\n",
    "    current_tags = post.tags\n",
    "    dot_check = [\".\" in t for t in current_tags]\n",
    "    if any(dot_check):\n",
    "        pcount += 1\n",
    "        if pcount%25 == 0:\n",
    "            sleep(0.5)\n",
    "            #print \"z\",\n",
    "        # print \"\\n\", post, \"\\n\", current_tags, \"\\n\", \n",
    "        new_tags = tag_converter(current_tags)\n",
    "        # print new_tags\n",
    "        try:\n",
    "            post.tags = new_tags\n",
    "            post.save()\n",
    "            print \"smile\",\n",
    "            sleep(1)\n",
    "        except:\n",
    "            print \"ARGH\"\n",
    "            print post\n",
    "            print current_tags\n",
    "            print new_tags\n",
    "            print \" \"\n",
    "            sleep(0.25)\n",
    "    # else:\n",
    "    #    print \".\",\n",
    "print pcount"
   ]
  },
  {
   "cell_type": "code",
   "execution_count": 257,
   "metadata": {
    "collapsed": false
   },
   "outputs": [
    {
     "data": {
      "text/plain": [
       "{u'date': datetime.datetime(2017, 6, 9, 0, 36, 46),\n",
       " u'posts': [<Bookmark description=\"Practical API Versioning\" url=\"fly.io\">,\n",
       "  <Bookmark description=\"Practical API Versioning Hacker News Comments\" url=\"news.ycombinator.com\">,\n",
       "  <Bookmark description=\"ruyaml python yaml alternative\" url=\"yaml.readthedocs.io\">,\n",
       "  <Bookmark description=\"Doodling in Math Class: Spirals, Fibonacci, and Being a Plant [2 of 3]\" url=\"vimeo.com\">,\n",
       "  <Bookmark description=\"HTML5 Animation Tools\" url=\"noeticforce.com\">,\n",
       "  <Bookmark description=\"VI Hart Vimeo Chanel\" url=\"vimeo.com\">,\n",
       "  <Bookmark description=\"Hexaflexagons\" url=\"vimeo.com\">],\n",
       " u'user': u'MuttonSea'}"
      ]
     },
     "execution_count": 257,
     "metadata": {},
     "output_type": "execute_result"
    }
   ],
   "source": [
    "pb.posts.get(url=\"www.scipy-lectures.org\")"
   ]
  },
  {
   "cell_type": "code",
   "execution_count": null,
   "metadata": {
    "collapsed": true
   },
   "outputs": [],
   "source": []
  }
 ],
 "metadata": {
  "anaconda-cloud": {},
  "kernelspec": {
   "display_name": "Python [default]",
   "language": "python",
   "name": "python2"
  },
  "language_info": {
   "codemirror_mode": {
    "name": "ipython",
    "version": 2
   },
   "file_extension": ".py",
   "mimetype": "text/x-python",
   "name": "python",
   "nbconvert_exporter": "python",
   "pygments_lexer": "ipython2",
   "version": "2.7.12"
  }
 },
 "nbformat": 4,
 "nbformat_minor": 0
}
